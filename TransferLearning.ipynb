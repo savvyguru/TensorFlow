{
  "nbformat": 4,
  "nbformat_minor": 0,
  "metadata": {
    "colab": {
      "name": "TransferLearning.ipynb",
      "provenance": [],
      "authorship_tag": "ABX9TyPUEYlZd1rAncmweVPUM4Ix",
      "include_colab_link": true
    },
    "kernelspec": {
      "name": "python3",
      "display_name": "Python 3"
    }
  },
  "cells": [
    {
      "cell_type": "markdown",
      "metadata": {
        "id": "view-in-github",
        "colab_type": "text"
      },
      "source": [
        "<a href=\"https://colab.research.google.com/github/savvyguru/TensorFlow/blob/master/TransferLearning.ipynb\" target=\"_parent\"><img src=\"https://colab.research.google.com/assets/colab-badge.svg\" alt=\"Open In Colab\"/></a>"
      ]
    },
    {
      "cell_type": "markdown",
      "metadata": {
        "id": "02IAyb7aP9vF",
        "colab_type": "text"
      },
      "source": [
        "**Import tensorflow and helper libraries**"
      ]
    },
    {
      "cell_type": "code",
      "metadata": {
        "id": "qK14c4BoL09L",
        "colab_type": "code",
        "colab": {
          "base_uri": "https://localhost:8080/",
          "height": 34
        },
        "outputId": "759949ac-e838-425e-86d7-9d6cd0af83d2"
      },
      "source": [
        "import tensorflow as tf\n",
        "import numpy as np\n",
        "import tensorflow_datasets as tfds\n",
        "\n",
        "#tfds-nightly updates latest version of dataset\n",
        "!pip-install -q tfds-nightly\n",
        "\n",
        "#to import embedding vector\n",
        "import tensorflow_hub as hub\n",
        "\n"
      ],
      "execution_count": 14,
      "outputs": [
        {
          "output_type": "stream",
          "text": [
            "/bin/bash: pip-install: command not found\n"
          ],
          "name": "stdout"
        }
      ]
    },
    {
      "cell_type": "markdown",
      "metadata": {
        "id": "YBNhfXPqPJTP",
        "colab_type": "text"
      },
      "source": [
        "Examine the contents of training set"
      ]
    },
    {
      "cell_type": "markdown",
      "metadata": {
        "id": "-92oY50wP47m",
        "colab_type": "text"
      },
      "source": [
        "**Get Dataset**"
      ]
    },
    {
      "cell_type": "code",
      "metadata": {
        "id": "MIRKU4zCP1T6",
        "colab_type": "code",
        "colab": {}
      },
      "source": [
        "train_data, validation_data, test_data = tfds.load(\n",
        "    name=\"imdb_reviews\", \n",
        "    split=('train[:60%]', 'train[60%:]', 'test'),\n",
        "    as_supervised=True)\n"
      ],
      "execution_count": 0,
      "outputs": []
    },
    {
      "cell_type": "markdown",
      "metadata": {
        "id": "g7JvktZ3QGzV",
        "colab_type": "text"
      },
      "source": [
        "**Inspect Data**"
      ]
    },
    {
      "cell_type": "code",
      "metadata": {
        "id": "3qTl9H71Pyyo",
        "colab_type": "code",
        "colab": {
          "base_uri": "https://localhost:8080/",
          "height": 156
        },
        "outputId": "5b842193-f920-436c-bae6-efb2c79fe0f0"
      },
      "source": [
        "\n",
        "train_examples_batch, train_labels_batch = next(iter(train_data.batch(5)))\n",
        "train_examples_batch"
      ],
      "execution_count": 16,
      "outputs": [
        {
          "output_type": "execute_result",
          "data": {
            "text/plain": [
              "<tf.Tensor: shape=(5,), dtype=string, numpy=\n",
              "array([b\"This was an absolutely terrible movie. Don't be lured in by Christopher Walken or Michael Ironside. Both are great actors, but this must simply be their worst role in history. Even their great acting could not redeem this movie's ridiculous storyline. This movie is an early nineties US propaganda piece. The most pathetic scenes were those when the Columbian rebels were making their cases for revolutions. Maria Conchita Alonso appeared phony, and her pseudo-love affair with Walken was nothing but a pathetic emotional plug in a movie that was devoid of any real meaning. I am disappointed that there are movies like this, ruining actor's like Christopher Walken's good name. I could barely sit through it.\",\n",
              "       b'I have been known to fall asleep during films, but this is usually due to a combination of things including, really tired, being warm and comfortable on the sette and having just eaten a lot. However on this occasion I fell asleep because the film was rubbish. The plot development was constant. Constantly slow and boring. Things seemed to happen, but with no explanation of what was causing them or why. I admit, I may have missed part of the film, but i watched the majority of it and everything just seemed to happen of its own accord without any real concern for anything else. I cant recommend this film at all.',\n",
              "       b'Mann photographs the Alberta Rocky Mountains in a superb fashion, and Jimmy Stewart and Walter Brennan give enjoyable performances as they always seem to do. <br /><br />But come on Hollywood - a Mountie telling the people of Dawson City, Yukon to elect themselves a marshal (yes a marshal!) and to enforce the law themselves, then gunfighters battling it out on the streets for control of the town? <br /><br />Nothing even remotely resembling that happened on the Canadian side of the border during the Klondike gold rush. Mr. Mann and company appear to have mistaken Dawson City for Deadwood, the Canadian North for the American Wild West.<br /><br />Canadian viewers be prepared for a Reefer Madness type of enjoyable howl with this ludicrous plot, or, to shake your head in disgust.',\n",
              "       b'This is the kind of film for a snowy Sunday afternoon when the rest of the world can go ahead with its own business as you descend into a big arm-chair and mellow for a couple of hours. Wonderful performances from Cher and Nicolas Cage (as always) gently row the plot along. There are no rapids to cross, no dangerous waters, just a warm and witty paddle through New York life at its best. A family film in every sense and one that deserves the praise it received.',\n",
              "       b'As others have mentioned, all the women that go nude in this film are mostly absolutely gorgeous. The plot very ably shows the hypocrisy of the female libido. When men are around they want to be pursued, but when no \"men\" are around, they become the pursuers of a 14 year old boy. And the boy becomes a man really fast (we should all be so lucky at this age!). He then gets up the courage to pursue his true love.'],\n",
              "      dtype=object)>"
            ]
          },
          "metadata": {
            "tags": []
          },
          "execution_count": 16
        }
      ]
    },
    {
      "cell_type": "markdown",
      "metadata": {
        "id": "QWb3u_qQQZCr",
        "colab_type": "text"
      },
      "source": [
        "**Transfer Learning using [Embedding Vector](https://towardsdatascience.com/introduction-to-word-embedding-and-word2vec-652d0c2060fa)**:\n",
        "\n",
        "\n",
        "*   Output of hub layer is 50-dimension\n",
        "*   Model: https://tfhub.dev/google/tf2-preview/nnlm-en-dim50/1\n",
        "\n"
      ]
    },
    {
      "cell_type": "code",
      "metadata": {
        "id": "T4dONO7vR0FX",
        "colab_type": "code",
        "colab": {}
      },
      "source": [
        "embed = hub.load(\"https://tfhub.dev/google/tf2-preview/nnlm-en-dim50/1\")\n",
        "hub_layer = hub.KerasLayer(embed, input_shape=[], \n",
        "                           dtype=tf.string, trainable=True)"
      ],
      "execution_count": 0,
      "outputs": []
    },
    {
      "cell_type": "markdown",
      "metadata": {
        "id": "ML7YYvY_Sx2H",
        "colab_type": "text"
      },
      "source": [
        "**Build Rest of Neural Network**"
      ]
    },
    {
      "cell_type": "code",
      "metadata": {
        "id": "1-PhC_MbS5Sa",
        "colab_type": "code",
        "colab": {
          "base_uri": "https://localhost:8080/",
          "height": 255
        },
        "outputId": "f91d10ea-ca26-4fd0-8507-662304f431bd"
      },
      "source": [
        "model = tf.keras.Sequential()\n",
        "model.add(hub_layer)\n",
        "model.add(tf.keras.layers.Dense(16, activation='relu'))\n",
        "model.add(tf.keras.layers.Dense(1))\n",
        "\n",
        "model.summary()"
      ],
      "execution_count": 18,
      "outputs": [
        {
          "output_type": "stream",
          "text": [
            "Model: \"sequential_1\"\n",
            "_________________________________________________________________\n",
            "Layer (type)                 Output Shape              Param #   \n",
            "=================================================================\n",
            "keras_layer_1 (KerasLayer)   (None, 50)                48190600  \n",
            "_________________________________________________________________\n",
            "dense_2 (Dense)              (None, 16)                816       \n",
            "_________________________________________________________________\n",
            "dense_3 (Dense)              (None, 1)                 17        \n",
            "=================================================================\n",
            "Total params: 48,191,433\n",
            "Trainable params: 48,191,433\n",
            "Non-trainable params: 0\n",
            "_________________________________________________________________\n"
          ],
          "name": "stdout"
        }
      ]
    },
    {
      "cell_type": "markdown",
      "metadata": {
        "id": "xcPG4v5RTddL",
        "colab_type": "text"
      },
      "source": [
        "**Compile**\n",
        "\n",
        "\n",
        "*   Use Binary Cross Entropy as problem is a classification problem\n",
        "\n"
      ]
    },
    {
      "cell_type": "code",
      "metadata": {
        "id": "UKWLiRhGTg-c",
        "colab_type": "code",
        "colab": {}
      },
      "source": [
        "model.compile(optimizer='adam',\n",
        "              loss=tf.keras.losses.BinaryCrossentropy(from_logits=True),\n",
        "              metrics=['accuracy'])"
      ],
      "execution_count": 0,
      "outputs": []
    },
    {
      "cell_type": "markdown",
      "metadata": {
        "id": "VV5k9WC1Tzyb",
        "colab_type": "text"
      },
      "source": [
        "**Train Model**"
      ]
    },
    {
      "cell_type": "code",
      "metadata": {
        "id": "SEzPuPjMT4QS",
        "colab_type": "code",
        "colab": {
          "base_uri": "https://localhost:8080/",
          "height": 697
        },
        "outputId": "86798aa4-70df-4fcf-f396-2df395116503"
      },
      "source": [
        "history = model.fit(train_data.shuffle(10000).batch(512),\n",
        "                    epochs=20,\n",
        "                    validation_data=validation_data.batch(512),\n",
        "                    verbose=1)"
      ],
      "execution_count": 20,
      "outputs": [
        {
          "output_type": "stream",
          "text": [
            "Epoch 1/20\n",
            "30/30 [==============================] - 22s 718ms/step - loss: 0.7300 - accuracy: 0.4967 - val_loss: 0.6579 - val_accuracy: 0.5083\n",
            "Epoch 2/20\n",
            "30/30 [==============================] - 19s 621ms/step - loss: 0.6155 - accuracy: 0.5913 - val_loss: 0.5929 - val_accuracy: 0.5997\n",
            "Epoch 3/20\n",
            "30/30 [==============================] - 19s 625ms/step - loss: 0.5287 - accuracy: 0.7079 - val_loss: 0.5100 - val_accuracy: 0.7373\n",
            "Epoch 4/20\n",
            "30/30 [==============================] - 19s 624ms/step - loss: 0.4204 - accuracy: 0.8175 - val_loss: 0.4246 - val_accuracy: 0.8035\n",
            "Epoch 5/20\n",
            "30/30 [==============================] - 19s 624ms/step - loss: 0.3175 - accuracy: 0.8835 - val_loss: 0.3632 - val_accuracy: 0.8397\n",
            "Epoch 6/20\n",
            "30/30 [==============================] - 19s 624ms/step - loss: 0.2388 - accuracy: 0.9178 - val_loss: 0.3281 - val_accuracy: 0.8543\n",
            "Epoch 7/20\n",
            "30/30 [==============================] - 19s 622ms/step - loss: 0.1817 - accuracy: 0.9418 - val_loss: 0.3108 - val_accuracy: 0.8652\n",
            "Epoch 8/20\n",
            "30/30 [==============================] - 19s 626ms/step - loss: 0.1398 - accuracy: 0.9599 - val_loss: 0.3063 - val_accuracy: 0.8722\n",
            "Epoch 9/20\n",
            "30/30 [==============================] - 19s 622ms/step - loss: 0.1072 - accuracy: 0.9724 - val_loss: 0.3024 - val_accuracy: 0.8689\n",
            "Epoch 10/20\n",
            "30/30 [==============================] - 19s 623ms/step - loss: 0.0819 - accuracy: 0.9818 - val_loss: 0.3057 - val_accuracy: 0.8675\n",
            "Epoch 11/20\n",
            "30/30 [==============================] - 19s 623ms/step - loss: 0.0631 - accuracy: 0.9878 - val_loss: 0.3116 - val_accuracy: 0.8696\n",
            "Epoch 12/20\n",
            "30/30 [==============================] - 19s 626ms/step - loss: 0.0485 - accuracy: 0.9935 - val_loss: 0.3199 - val_accuracy: 0.8692\n",
            "Epoch 13/20\n",
            "30/30 [==============================] - 19s 622ms/step - loss: 0.0377 - accuracy: 0.9957 - val_loss: 0.3291 - val_accuracy: 0.8679\n",
            "Epoch 14/20\n",
            "30/30 [==============================] - 19s 624ms/step - loss: 0.0294 - accuracy: 0.9973 - val_loss: 0.3394 - val_accuracy: 0.8670\n",
            "Epoch 15/20\n",
            "30/30 [==============================] - 19s 619ms/step - loss: 0.0232 - accuracy: 0.9985 - val_loss: 0.3488 - val_accuracy: 0.8661\n",
            "Epoch 16/20\n",
            "30/30 [==============================] - 19s 625ms/step - loss: 0.0187 - accuracy: 0.9996 - val_loss: 0.3587 - val_accuracy: 0.8641\n",
            "Epoch 17/20\n",
            "30/30 [==============================] - 19s 620ms/step - loss: 0.0152 - accuracy: 0.9997 - val_loss: 0.3686 - val_accuracy: 0.8644\n",
            "Epoch 18/20\n",
            "30/30 [==============================] - 19s 617ms/step - loss: 0.0125 - accuracy: 0.9998 - val_loss: 0.3784 - val_accuracy: 0.8648\n",
            "Epoch 19/20\n",
            "30/30 [==============================] - 19s 618ms/step - loss: 0.0105 - accuracy: 0.9998 - val_loss: 0.3862 - val_accuracy: 0.8634\n",
            "Epoch 20/20\n",
            "30/30 [==============================] - 19s 620ms/step - loss: 0.0088 - accuracy: 0.9998 - val_loss: 0.3951 - val_accuracy: 0.8634\n"
          ],
          "name": "stdout"
        }
      ]
    },
    {
      "cell_type": "markdown",
      "metadata": {
        "id": "0AApYBxVUEnN",
        "colab_type": "text"
      },
      "source": [
        "**Evaluate Model Accuracy**"
      ]
    },
    {
      "cell_type": "code",
      "metadata": {
        "id": "Oa9K_fX3UHfo",
        "colab_type": "code",
        "colab": {
          "base_uri": "https://localhost:8080/",
          "height": 68
        },
        "outputId": "c8515d27-137a-4f68-d440-e3317c117925"
      },
      "source": [
        "results = model.evaluate(test_data.batch(512), verbose=2)\n",
        "\n",
        "for name, value in zip(model.metrics_names, results):\n",
        "  print(\"%s: %.3f\" % (name, value))"
      ],
      "execution_count": 21,
      "outputs": [
        {
          "output_type": "stream",
          "text": [
            "49/49 - 5s - loss: 0.4355 - accuracy: 0.8470\n",
            "loss: 0.435\n",
            "accuracy: 0.847\n"
          ],
          "name": "stdout"
        }
      ]
    }
  ]
}