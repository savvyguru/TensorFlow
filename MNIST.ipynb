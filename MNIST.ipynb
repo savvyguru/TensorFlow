{
  "nbformat": 4,
  "nbformat_minor": 0,
  "metadata": {
    "colab": {
      "name": "MNIST.ipynb",
      "provenance": [],
      "authorship_tag": "ABX9TyPywWdufHWJSQ91p3CdVD0t",
      "include_colab_link": true
    },
    "kernelspec": {
      "name": "python3",
      "display_name": "Python 3"
    }
  },
  "cells": [
    {
      "cell_type": "markdown",
      "metadata": {
        "id": "view-in-github",
        "colab_type": "text"
      },
      "source": [
        "<a href=\"https://colab.research.google.com/github/savvyguru/TensorFlow/blob/master/MNIST.ipynb\" target=\"_parent\"><img src=\"https://colab.research.google.com/assets/colab-badge.svg\" alt=\"Open In Colab\"/></a>"
      ]
    },
    {
      "cell_type": "markdown",
      "metadata": {
        "id": "38W4VaUaNaIj",
        "colab_type": "text"
      },
      "source": [
        "# Classify image of numbers"
      ]
    },
    {
      "cell_type": "markdown",
      "metadata": {
        "id": "ntl7HhiiNN6U",
        "colab_type": "text"
      },
      "source": [
        "This classifier aims to recognise numbers using a vanilla Neural Network"
      ]
    },
    {
      "cell_type": "code",
      "metadata": {
        "id": "7MzYvDmRNMGM",
        "colab_type": "code",
        "colab": {}
      },
      "source": [
        "import tensorflow as tf\n",
        "from tensorflow import keras\n",
        "\n",
        "import numpy as np\n",
        "import matplotlib.pyplot as plt"
      ],
      "execution_count": 0,
      "outputs": []
    },
    {
      "cell_type": "markdown",
      "metadata": {
        "id": "n51uUw_IOZIX",
        "colab_type": "text"
      },
      "source": [
        "Import Number [MNIST](http://yann.lecun.com/exdb/mnist/) dataset that contains numbers from 0 to 9"
      ]
    },
    {
      "cell_type": "code",
      "metadata": {
        "id": "ZqYxBlNxOtnR",
        "colab_type": "code",
        "colab": {}
      },
      "source": [
        "mnist = keras.datasets.mnist\n",
        "(train_images,train_labels),(test_images,test_labels) = tf.keras.datasets.mnist.load_data(path=\"mnist.npz\")\n",
        "#print(train_labels)"
      ],
      "execution_count": 0,
      "outputs": []
    },
    {
      "cell_type": "markdown",
      "metadata": {
        "id": "-oR0jbGlTcz_",
        "colab_type": "text"
      },
      "source": [
        "Inspect size of dataset"
      ]
    },
    {
      "cell_type": "code",
      "metadata": {
        "id": "Bfm4DLXHS9dk",
        "colab_type": "code",
        "outputId": "59496c18-677a-4efc-9ab7-f2c868746d47",
        "colab": {
          "base_uri": "https://localhost:8080/",
          "height": 34
        }
      },
      "source": [
        "\n",
        "len(train_images)"
      ],
      "execution_count": 22,
      "outputs": [
        {
          "output_type": "execute_result",
          "data": {
            "text/plain": [
              "60000"
            ]
          },
          "metadata": {
            "tags": []
          },
          "execution_count": 22
        }
      ]
    },
    {
      "cell_type": "markdown",
      "metadata": {
        "id": "A5TlZm4dTjP1",
        "colab_type": "text"
      },
      "source": [
        "Inspect dimensions of test image"
      ]
    },
    {
      "cell_type": "code",
      "metadata": {
        "id": "-Hh2hL0KTnU0",
        "colab_type": "code",
        "outputId": "5c436b88-c07e-4a0e-b264-332c5465d7da",
        "colab": {
          "base_uri": "https://localhost:8080/",
          "height": 34
        }
      },
      "source": [
        "train_images.shape"
      ],
      "execution_count": 23,
      "outputs": [
        {
          "output_type": "execute_result",
          "data": {
            "text/plain": [
              "(60000, 28, 28)"
            ]
          },
          "metadata": {
            "tags": []
          },
          "execution_count": 23
        }
      ]
    },
    {
      "cell_type": "markdown",
      "metadata": {
        "id": "E7yk9en-QpbO",
        "colab_type": "text"
      },
      "source": [
        "**Data Preprocessing:**\n",
        "*   Pixel values betweeb 0 to 255\n",
        "*   Scale the values from 0 to 1\n",
        "\n"
      ]
    },
    {
      "cell_type": "code",
      "metadata": {
        "id": "cwPcsWUzRMEH",
        "colab_type": "code",
        "colab": {}
      },
      "source": [
        "train_images = train_images / 255.0\n",
        "test_images = test_images / 255.0"
      ],
      "execution_count": 0,
      "outputs": []
    },
    {
      "cell_type": "markdown",
      "metadata": {
        "id": "1VjJsIHFRYW-",
        "colab_type": "text"
      },
      "source": [
        "**Construct Neural Network** by Layer"
      ]
    },
    {
      "cell_type": "code",
      "metadata": {
        "id": "6onRpwtHR81y",
        "colab_type": "code",
        "colab": {}
      },
      "source": [
        "#first layer is preprocessing\n",
        "#second layer is actual NN with weights\n",
        "#third layer is dropout\n",
        "#last layer maps to final output between 0 - 9\n",
        "first_layer = keras.layers.Flatten(input_shape = (28,28))\n",
        "second_layer = keras.layers.Dense(128,activation='relu')\n",
        "third_layer = tf.keras.layers.Dropout(0.2)\n",
        "fourth_layer = keras.layers.Dense(10) \n",
        "model = keras.Sequential([first_layer, second_layer, third_layer,fourth_layer])"
      ],
      "execution_count": 0,
      "outputs": []
    },
    {
      "cell_type": "markdown",
      "metadata": {
        "id": "S6LjZWQpUr_7",
        "colab_type": "text"
      },
      "source": [
        "**Compile Neural Network**"
      ]
    },
    {
      "cell_type": "code",
      "metadata": {
        "id": "madMzfs1UyzI",
        "colab_type": "code",
        "colab": {}
      },
      "source": [
        "Optimizer = 'adam'\n",
        "Loss_function = tf.keras.losses.SparseCategoricalCrossentropy(from_logits=True)\n",
        "Metrics = ['accuracy']\n",
        "model.compile(optimizer=Optimizer,loss=Loss_function, metrics=Metrics)"
      ],
      "execution_count": 0,
      "outputs": []
    },
    {
      "cell_type": "markdown",
      "metadata": {
        "id": "S81EYwogWOMF",
        "colab_type": "text"
      },
      "source": [
        "**Train the model**:\n",
        "Vary Epochs for accuracy"
      ]
    },
    {
      "cell_type": "code",
      "metadata": {
        "id": "0jPrGfBcVqkt",
        "colab_type": "code",
        "outputId": "b62bc653-a07f-4832-ed9e-be43aea6ead5",
        "colab": {
          "base_uri": "https://localhost:8080/",
          "height": 374
        }
      },
      "source": [
        "Epochs = 10\n",
        "model.fit(train_images,train_labels,epochs=Epochs)"
      ],
      "execution_count": 27,
      "outputs": [
        {
          "output_type": "stream",
          "text": [
            "Epoch 1/10\n",
            "1875/1875 [==============================] - 3s 2ms/step - loss: 0.2967 - accuracy: 0.9135\n",
            "Epoch 2/10\n",
            "1875/1875 [==============================] - 4s 2ms/step - loss: 0.1435 - accuracy: 0.9564\n",
            "Epoch 3/10\n",
            "1875/1875 [==============================] - 3s 2ms/step - loss: 0.1095 - accuracy: 0.9668\n",
            "Epoch 4/10\n",
            "1875/1875 [==============================] - 3s 2ms/step - loss: 0.0906 - accuracy: 0.9713\n",
            "Epoch 5/10\n",
            "1875/1875 [==============================] - 3s 2ms/step - loss: 0.0757 - accuracy: 0.9765\n",
            "Epoch 6/10\n",
            "1875/1875 [==============================] - 3s 2ms/step - loss: 0.0680 - accuracy: 0.9783\n",
            "Epoch 7/10\n",
            "1875/1875 [==============================] - 3s 2ms/step - loss: 0.0583 - accuracy: 0.9811\n",
            "Epoch 8/10\n",
            "1875/1875 [==============================] - 3s 2ms/step - loss: 0.0535 - accuracy: 0.9829\n",
            "Epoch 9/10\n",
            "1875/1875 [==============================] - 3s 2ms/step - loss: 0.0498 - accuracy: 0.9835\n",
            "Epoch 10/10\n",
            "1875/1875 [==============================] - 3s 2ms/step - loss: 0.0455 - accuracy: 0.9852\n"
          ],
          "name": "stdout"
        },
        {
          "output_type": "execute_result",
          "data": {
            "text/plain": [
              "<tensorflow.python.keras.callbacks.History at 0x7fa8c06e6898>"
            ]
          },
          "metadata": {
            "tags": []
          },
          "execution_count": 27
        }
      ]
    },
    {
      "cell_type": "markdown",
      "metadata": {
        "id": "XwmBqHRAXA4y",
        "colab_type": "text"
      },
      "source": [
        "**Test model** with test set:\n",
        "\n",
        "\n",
        "1.   Observe difference between test set and train set accuracy\n",
        "2.   Signs of overfitting\n",
        "\n"
      ]
    },
    {
      "cell_type": "code",
      "metadata": {
        "id": "ceP2B0oGXDIj",
        "colab_type": "code",
        "outputId": "581c31e0-f3f4-4e8c-ea3c-c5b6ebafc3bb",
        "colab": {
          "base_uri": "https://localhost:8080/",
          "height": 51
        }
      },
      "source": [
        "test_loss, test_acc = model.evaluate(test_images,  test_labels, verbose=2)\n",
        "print(\"Accuracy of the model is: \",test_acc)"
      ],
      "execution_count": 28,
      "outputs": [
        {
          "output_type": "stream",
          "text": [
            "313/313 - 0s - loss: 0.0698 - accuracy: 0.9794\n",
            "Accuracy of the model is:  0.9793999791145325\n"
          ],
          "name": "stdout"
        }
      ]
    },
    {
      "cell_type": "markdown",
      "metadata": {
        "id": "w3i3_0P-YI7N",
        "colab_type": "text"
      },
      "source": [
        "**Deployment**\n",
        "\n",
        "\n",
        "*   Display image of number to be recognised\n",
        "\n"
      ]
    },
    {
      "cell_type": "code",
      "metadata": {
        "id": "K_0nONijYQZa",
        "colab_type": "code",
        "outputId": "5fc715e2-406f-445d-e9b6-1b730e6f2c6b",
        "colab": {
          "base_uri": "https://localhost:8080/",
          "height": 269
        }
      },
      "source": [
        "probability_model = tf.keras.Sequential([model, tf.keras.layers.Softmax()])\n",
        "\n",
        "testImage = test_images[1]\n",
        "img = (np.expand_dims(testImage,0))\n",
        "prediction = probability_model.predict(img)\n",
        "plt.figure()\n",
        "plt.imshow(testImage)\n",
        "plt.colorbar()\n",
        "plt.grid(False)\n",
        "plt.show()"
      ],
      "execution_count": 29,
      "outputs": [
        {
          "output_type": "display_data",
          "data": {
            "image/png": "[encoded data removed]",
            "text/plain": [
              "<Figure size 432x288 with 2 Axes>"
            ]
          },
          "metadata": {
            "tags": [],
            "needs_background": "light"
          }
        }
      ]
    },
    {
      "cell_type": "markdown",
      "metadata": {
        "id": "l_-15b1TZLwb",
        "colab_type": "text"
      },
      "source": [
        "**Probabilty Distributions** of possible numbers the tested image could be"
      ]
    },
    {
      "cell_type": "code",
      "metadata": {
        "id": "OJ4e6Jk4ZJFC",
        "colab_type": "code",
        "outputId": "a99b97e4-ce87-48ce-e1b9-0ea4eb19c454",
        "colab": {
          "base_uri": "https://localhost:8080/",
          "height": 68
        }
      },
      "source": [
        "prediction"
      ],
      "execution_count": 30,
      "outputs": [
        {
          "output_type": "execute_result",
          "data": {
            "text/plain": [
              "array([[4.9355947e-10, 4.3159300e-05, 9.9995685e-01, 6.9540178e-09,\n",
              "        2.1664090e-21, 1.6427093e-10, 5.9186168e-13, 5.8354789e-16,\n",
              "        1.0143982e-09, 6.0026169e-18]], dtype=float32)"
            ]
          },
          "metadata": {
            "tags": []
          },
          "execution_count": 30
        }
      ]
    },
    {
      "cell_type": "markdown",
      "metadata": {
        "id": "1clMd9wjbAZ9",
        "colab_type": "text"
      },
      "source": [
        "**Prediction of the actual number**"
      ]
    },
    {
      "cell_type": "code",
      "metadata": {
        "id": "FdAsoBjjbEcq",
        "colab_type": "code",
        "outputId": "a154cc25-e49e-4adb-cb6a-d057e6805214",
        "colab": {
          "base_uri": "https://localhost:8080/",
          "height": 34
        }
      },
      "source": [
        "np.argmax(prediction)"
      ],
      "execution_count": 31,
      "outputs": [
        {
          "output_type": "execute_result",
          "data": {
            "text/plain": [
              "2"
            ]
          },
          "metadata": {
            "tags": []
          },
          "execution_count": 31
        }
      ]
    }
  ]
}